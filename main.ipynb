{
 "cells": [
  {
   "cell_type": "code",
   "execution_count": 54,
   "metadata": {},
   "outputs": [],
   "source": [
    "import pandas as pd\n",
    "\n",
    "PATH = r'/home/magicpuff/Netology_project/adpy2.5/names/'"
   ]
  },
  {
   "cell_type": "code",
   "execution_count": 68,
   "metadata": {},
   "outputs": [],
   "source": [
    "def count_top3(years):\n",
    "    result = list()\n",
    "    for year in years:\n",
    "        data = pd.read_csv(f'{PATH}yob{year}.txt', names=['Name', 'Gender', 'Count'])\n",
    "        result.append(data)\n",
    "    data = pd.concat(result).groupby(['Name'], as_index=False).sum().nlargest(3, 'Count')\n",
    "    return data['Name'].tolist()\n",
    "        "
   ]
  },
  {
   "cell_type": "code",
   "execution_count": 70,
   "metadata": {},
   "outputs": [
    {
     "data": {
      "text/plain": [
       "['James', 'John', 'Robert']"
      ]
     },
     "execution_count": 70,
     "metadata": {},
     "output_type": "execute_result"
    }
   ],
   "source": [
    "count_top3([1900, 1950, 2000])"
   ]
  },
  {
   "cell_type": "code",
   "execution_count": 71,
   "metadata": {},
   "outputs": [],
   "source": [
    "def count_dynamics(years_list):\n",
    "    result = {'F': [], 'M':[]}\n",
    "    names_list = ['Name', 'Sex', 'Quantity']\n",
    "    for year in years_list:\n",
    "        data = pd.read_csv(f'{PATH}yob{year}.txt', names=names_list).groupby('Sex', as_index=False).sum()\n",
    "        result['F'].append(data[data['Sex'] == 'F']['Quantity'].tolist()[0])\n",
    "        result['M'].append(data[data['Sex'] == 'M']['Quantity'].tolist()[0]) \n",
    "    return result"
   ]
  },
  {
   "cell_type": "code",
   "execution_count": 72,
   "metadata": {},
   "outputs": [
    {
     "data": {
      "text/plain": [
       "{'F': [299795, 1713070, 1815467], 'M': [150479, 1790441, 1963393]}"
      ]
     },
     "execution_count": 72,
     "metadata": {},
     "output_type": "execute_result"
    }
   ],
   "source": [
    "count_dynamics([1900, 1950, 2000])"
   ]
  },
  {
   "cell_type": "code",
   "execution_count": null,
   "metadata": {},
   "outputs": [],
   "source": []
  }
 ],
 "metadata": {
  "kernelspec": {
   "display_name": "Python 3",
   "language": "python",
   "name": "python3"
  },
  "language_info": {
   "codemirror_mode": {
    "name": "ipython",
    "version": 3
   },
   "file_extension": ".py",
   "mimetype": "text/x-python",
   "name": "python",
   "nbconvert_exporter": "python",
   "pygments_lexer": "ipython3",
   "version": "3.8.5"
  }
 },
 "nbformat": 4,
 "nbformat_minor": 4
}
